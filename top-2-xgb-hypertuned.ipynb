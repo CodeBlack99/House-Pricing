{
 "cells": [
  {
   "cell_type": "code",
   "execution_count": 1,
   "id": "13c76322",
   "metadata": {
    "execution": {
     "iopub.execute_input": "2021-10-27T23:40:57.288931Z",
     "iopub.status.busy": "2021-10-27T23:40:57.287780Z",
     "iopub.status.idle": "2021-10-27T23:40:59.314490Z",
     "shell.execute_reply": "2021-10-27T23:40:59.315069Z",
     "shell.execute_reply.started": "2021-10-27T23:39:35.351976Z"
    },
    "papermill": {
     "duration": 2.052022,
     "end_time": "2021-10-27T23:40:59.315488",
     "exception": false,
     "start_time": "2021-10-27T23:40:57.263466",
     "status": "completed"
    },
    "tags": []
   },
   "outputs": [
    {
     "name": "stdout",
     "output_type": "stream",
     "text": [
      "Setup Complete\n"
     ]
    }
   ],
   "source": [
    "# Set up code checking\n",
    "import os\n",
    "if not os.path.exists(\"../input/train.csv\"):\n",
    "    os.symlink(\"../input/home-data-for-ml-course/train.csv\", \"../input/train.csv\")  \n",
    "    os.symlink(\"../input/home-data-for-ml-course/test.csv\", \"../input/test.csv\") \n",
    "from learntools.core import binder\n",
    "binder.bind(globals())\n",
    "from learntools.ml_intermediate.ex6 import *\n",
    "print(\"Setup Complete\")"
   ]
  },
  {
   "cell_type": "markdown",
   "id": "c85ac932",
   "metadata": {
    "papermill": {
     "duration": 0.017157,
     "end_time": "2021-10-27T23:40:59.351826",
     "exception": false,
     "start_time": "2021-10-27T23:40:59.334669",
     "status": "completed"
    },
    "tags": []
   },
   "source": [
    "I maintained the exercise preprocessing."
   ]
  },
  {
   "cell_type": "code",
   "execution_count": 2,
   "id": "cd80b346",
   "metadata": {
    "execution": {
     "iopub.execute_input": "2021-10-27T23:40:59.400283Z",
     "iopub.status.busy": "2021-10-27T23:40:59.396071Z",
     "iopub.status.idle": "2021-10-27T23:40:59.708899Z",
     "shell.execute_reply": "2021-10-27T23:40:59.708201Z",
     "shell.execute_reply.started": "2021-10-27T23:39:35.366129Z"
    },
    "papermill": {
     "duration": 0.33957,
     "end_time": "2021-10-27T23:40:59.709076",
     "exception": false,
     "start_time": "2021-10-27T23:40:59.369506",
     "status": "completed"
    },
    "tags": []
   },
   "outputs": [],
   "source": [
    "import pandas as pd\n",
    "from sklearn.model_selection import train_test_split \n",
    "import numpy as np\n",
    "\n",
    "X = pd.read_csv('../input/train.csv', index_col='Id') \n",
    "X_test_full = pd.read_csv('../input/test.csv', index_col='Id')\n",
    "\n",
    "X.dropna(axis=0, subset=['SalePrice'], inplace=True) \n",
    "y = X.SalePrice \n",
    "X.drop(['SalePrice'], axis=1, inplace=True) \n",
    "\n",
    "X_train_full, X_valid_full, y_train, y_valid = train_test_split(X, y, train_size=0.8, test_size=0.2, random_state=0) \n",
    "low_cardinality_cols = [cname for cname in X_train_full.columns if X_train_full[cname].nunique() < 10 and X_train_full[cname].dtype == \"object\"]\n",
    "numeric_cols = [cname for cname in X_train_full.columns if X_train_full[cname].dtype in ['int64', 'float64']]\n",
    "\n",
    "my_cols = low_cardinality_cols + numeric_cols \n",
    "X_train = X_train_full[my_cols].copy() \n",
    "X_valid = X_valid_full[my_cols].copy() \n",
    "X_test = X_test_full[my_cols].copy() \n",
    "\n",
    "X_train = pd.get_dummies(X_train) \n",
    "X_valid = pd.get_dummies(X_valid) \n",
    "X_test = pd.get_dummies(X_test) \n",
    "X_train, X_valid = X_train.align(X_valid, join='left', axis=1) \n",
    "X_train, X_test = X_train.align(X_test, join='left', axis=1)\n"
   ]
  },
  {
   "cell_type": "code",
   "execution_count": 3,
   "id": "94db526f",
   "metadata": {
    "execution": {
     "iopub.execute_input": "2021-10-27T23:40:59.749531Z",
     "iopub.status.busy": "2021-10-27T23:40:59.748753Z",
     "iopub.status.idle": "2021-10-27T23:40:59.752318Z",
     "shell.execute_reply": "2021-10-27T23:40:59.753269Z",
     "shell.execute_reply.started": "2021-10-27T23:39:35.584430Z"
    },
    "papermill": {
     "duration": 0.02641,
     "end_time": "2021-10-27T23:40:59.753575",
     "exception": false,
     "start_time": "2021-10-27T23:40:59.727165",
     "status": "completed"
    },
    "tags": []
   },
   "outputs": [
    {
     "name": "stdout",
     "output_type": "stream",
     "text": [
      "(1168, 227)\n"
     ]
    }
   ],
   "source": [
    "print(X_train.shape)"
   ]
  },
  {
   "cell_type": "markdown",
   "id": "6d5188c0",
   "metadata": {
    "papermill": {
     "duration": 0.016854,
     "end_time": "2021-10-27T23:40:59.789028",
     "exception": false,
     "start_time": "2021-10-27T23:40:59.772174",
     "status": "completed"
    },
    "tags": []
   },
   "source": [
    "Exploratory first model. Cool to see the difference between default and after hyperparameters turning."
   ]
  },
  {
   "cell_type": "code",
   "execution_count": 4,
   "id": "0c9d29ac",
   "metadata": {
    "execution": {
     "iopub.execute_input": "2021-10-27T23:40:59.827374Z",
     "iopub.status.busy": "2021-10-27T23:40:59.826711Z",
     "iopub.status.idle": "2021-10-27T23:41:00.556251Z",
     "shell.execute_reply": "2021-10-27T23:41:00.555581Z",
     "shell.execute_reply.started": "2021-10-27T23:39:35.591726Z"
    },
    "papermill": {
     "duration": 0.749955,
     "end_time": "2021-10-27T23:41:00.556397",
     "exception": false,
     "start_time": "2021-10-27T23:40:59.806442",
     "status": "completed"
    },
    "tags": []
   },
   "outputs": [
    {
     "data": {
      "text/plain": [
       "XGBRegressor(base_score=0.5, booster='gbtree', colsample_bylevel=1,\n",
       "             colsample_bynode=1, colsample_bytree=1, gamma=0, gpu_id=-1,\n",
       "             importance_type='gain', interaction_constraints='',\n",
       "             learning_rate=0.300000012, max_delta_step=0, max_depth=6,\n",
       "             min_child_weight=1, missing=nan, monotone_constraints='()',\n",
       "             n_estimators=100, n_jobs=4, num_parallel_tree=1, random_state=0,\n",
       "             reg_alpha=0, reg_lambda=1, scale_pos_weight=1, subsample=1,\n",
       "             tree_method='exact', validate_parameters=1, verbosity=None)"
      ]
     },
     "execution_count": 4,
     "metadata": {},
     "output_type": "execute_result"
    }
   ],
   "source": [
    "from xgboost import XGBRegressor\n",
    "\n",
    "# Define the model\n",
    "my_model_1 = XGBRegressor(random_state = 0)\n",
    "\n",
    "# Fit the model\n",
    "my_model_1.fit(X_train, y_train)"
   ]
  },
  {
   "cell_type": "code",
   "execution_count": 5,
   "id": "a8e8c491",
   "metadata": {
    "execution": {
     "iopub.execute_input": "2021-10-27T23:41:00.596254Z",
     "iopub.status.busy": "2021-10-27T23:41:00.595543Z",
     "iopub.status.idle": "2021-10-27T23:41:00.605138Z",
     "shell.execute_reply": "2021-10-27T23:41:00.605720Z",
     "shell.execute_reply.started": "2021-10-27T23:39:36.303835Z"
    },
    "papermill": {
     "duration": 0.031828,
     "end_time": "2021-10-27T23:41:00.605973",
     "exception": false,
     "start_time": "2021-10-27T23:41:00.574145",
     "status": "completed"
    },
    "tags": []
   },
   "outputs": [],
   "source": [
    "from sklearn.metrics import mean_absolute_error\n",
    "\n",
    "# Get predictions\n",
    "predictions_1 = my_model_1.predict(X_valid)"
   ]
  },
  {
   "cell_type": "code",
   "execution_count": 6,
   "id": "ae7926f4",
   "metadata": {
    "execution": {
     "iopub.execute_input": "2021-10-27T23:41:00.651341Z",
     "iopub.status.busy": "2021-10-27T23:41:00.650315Z",
     "iopub.status.idle": "2021-10-27T23:41:00.655954Z",
     "shell.execute_reply": "2021-10-27T23:41:00.655308Z",
     "shell.execute_reply.started": "2021-10-27T23:39:36.316707Z"
    },
    "papermill": {
     "duration": 0.029261,
     "end_time": "2021-10-27T23:41:00.656136",
     "exception": false,
     "start_time": "2021-10-27T23:41:00.626875",
     "status": "completed"
    },
    "tags": []
   },
   "outputs": [
    {
     "name": "stdout",
     "output_type": "stream",
     "text": [
      "Mean Absolute Error: 17662.736729452055\n"
     ]
    }
   ],
   "source": [
    "# Calculate MAE\n",
    "mae_1 = mean_absolute_error(predictions_1, y_valid)\n",
    "\n",
    "\n",
    "print(\"Mean Absolute Error:\" , mae_1)"
   ]
  },
  {
   "cell_type": "markdown",
   "id": "a34bd44c",
   "metadata": {
    "papermill": {
     "duration": 0.018248,
     "end_time": "2021-10-27T23:41:00.692711",
     "exception": false,
     "start_time": "2021-10-27T23:41:00.674463",
     "status": "completed"
    },
    "tags": []
   },
   "source": [
    "Check for missing values"
   ]
  },
  {
   "cell_type": "code",
   "execution_count": 7,
   "id": "41832175",
   "metadata": {
    "execution": {
     "iopub.execute_input": "2021-10-27T23:41:00.737068Z",
     "iopub.status.busy": "2021-10-27T23:41:00.736416Z",
     "iopub.status.idle": "2021-10-27T23:41:00.744698Z",
     "shell.execute_reply": "2021-10-27T23:41:00.745183Z",
     "shell.execute_reply.started": "2021-10-27T23:39:36.335261Z"
    },
    "papermill": {
     "duration": 0.034346,
     "end_time": "2021-10-27T23:41:00.745385",
     "exception": false,
     "start_time": "2021-10-27T23:41:00.711039",
     "status": "completed"
    },
    "tags": []
   },
   "outputs": [
    {
     "data": {
      "text/plain": [
       "MSSubClass                 0\n",
       "LotFrontage              212\n",
       "LotArea                    0\n",
       "OverallQual                0\n",
       "OverallCond                0\n",
       "                        ... \n",
       "SaleCondition_AdjLand      0\n",
       "SaleCondition_Alloca       0\n",
       "SaleCondition_Family       0\n",
       "SaleCondition_Normal       0\n",
       "SaleCondition_Partial      0\n",
       "Length: 227, dtype: int64"
      ]
     },
     "execution_count": 7,
     "metadata": {},
     "output_type": "execute_result"
    }
   ],
   "source": [
    "X_train.isnull().sum()"
   ]
  },
  {
   "cell_type": "code",
   "execution_count": 8,
   "id": "ffa8b327",
   "metadata": {
    "execution": {
     "iopub.execute_input": "2021-10-27T23:41:00.793525Z",
     "iopub.status.busy": "2021-10-27T23:41:00.789768Z",
     "iopub.status.idle": "2021-10-27T23:41:00.798335Z",
     "shell.execute_reply": "2021-10-27T23:41:00.797658Z",
     "shell.execute_reply.started": "2021-10-27T23:39:36.348137Z"
    },
    "papermill": {
     "duration": 0.034408,
     "end_time": "2021-10-27T23:41:00.798505",
     "exception": false,
     "start_time": "2021-10-27T23:41:00.764097",
     "status": "completed"
    },
    "tags": []
   },
   "outputs": [
    {
     "data": {
      "text/plain": [
       "MSSubClass                0\n",
       "LotFrontage              47\n",
       "LotArea                   0\n",
       "OverallQual               0\n",
       "OverallCond               0\n",
       "                         ..\n",
       "SaleCondition_AdjLand     0\n",
       "SaleCondition_Alloca      0\n",
       "SaleCondition_Family      0\n",
       "SaleCondition_Normal      0\n",
       "SaleCondition_Partial     0\n",
       "Length: 227, dtype: int64"
      ]
     },
     "execution_count": 8,
     "metadata": {},
     "output_type": "execute_result"
    }
   ],
   "source": [
    "X_valid.isnull().sum()"
   ]
  },
  {
   "cell_type": "code",
   "execution_count": 9,
   "id": "414074f5",
   "metadata": {
    "execution": {
     "iopub.execute_input": "2021-10-27T23:41:00.840907Z",
     "iopub.status.busy": "2021-10-27T23:41:00.839964Z",
     "iopub.status.idle": "2021-10-27T23:41:00.851324Z",
     "shell.execute_reply": "2021-10-27T23:41:00.851869Z",
     "shell.execute_reply.started": "2021-10-27T23:39:36.365520Z"
    },
    "papermill": {
     "duration": 0.034324,
     "end_time": "2021-10-27T23:41:00.852076",
     "exception": false,
     "start_time": "2021-10-27T23:41:00.817752",
     "status": "completed"
    },
    "tags": []
   },
   "outputs": [
    {
     "data": {
      "text/plain": [
       "MSSubClass                 0\n",
       "LotFrontage              227\n",
       "LotArea                    0\n",
       "OverallQual                0\n",
       "OverallCond                0\n",
       "                        ... \n",
       "SaleCondition_AdjLand      0\n",
       "SaleCondition_Alloca       0\n",
       "SaleCondition_Family       0\n",
       "SaleCondition_Normal       0\n",
       "SaleCondition_Partial      0\n",
       "Length: 227, dtype: int64"
      ]
     },
     "execution_count": 9,
     "metadata": {},
     "output_type": "execute_result"
    }
   ],
   "source": [
    "X_test.isnull().sum()"
   ]
  },
  {
   "cell_type": "code",
   "execution_count": 10,
   "id": "3c45049b",
   "metadata": {
    "execution": {
     "iopub.execute_input": "2021-10-27T23:41:00.894646Z",
     "iopub.status.busy": "2021-10-27T23:41:00.893911Z",
     "iopub.status.idle": "2021-10-27T23:41:00.919353Z",
     "shell.execute_reply": "2021-10-27T23:41:00.919866Z",
     "shell.execute_reply.started": "2021-10-27T23:39:36.379468Z"
    },
    "papermill": {
     "duration": 0.048567,
     "end_time": "2021-10-27T23:41:00.920035",
     "exception": false,
     "start_time": "2021-10-27T23:41:00.871468",
     "status": "completed"
    },
    "tags": []
   },
   "outputs": [
    {
     "data": {
      "text/html": [
       "<div>\n",
       "<style scoped>\n",
       "    .dataframe tbody tr th:only-of-type {\n",
       "        vertical-align: middle;\n",
       "    }\n",
       "\n",
       "    .dataframe tbody tr th {\n",
       "        vertical-align: top;\n",
       "    }\n",
       "\n",
       "    .dataframe thead th {\n",
       "        text-align: right;\n",
       "    }\n",
       "</style>\n",
       "<table border=\"1\" class=\"dataframe\">\n",
       "  <thead>\n",
       "    <tr style=\"text-align: right;\">\n",
       "      <th></th>\n",
       "      <th>MSSubClass</th>\n",
       "      <th>LotFrontage</th>\n",
       "      <th>LotArea</th>\n",
       "      <th>OverallQual</th>\n",
       "      <th>OverallCond</th>\n",
       "      <th>YearBuilt</th>\n",
       "      <th>YearRemodAdd</th>\n",
       "      <th>MasVnrArea</th>\n",
       "      <th>BsmtFinSF1</th>\n",
       "      <th>BsmtFinSF2</th>\n",
       "      <th>...</th>\n",
       "      <th>SaleType_ConLw</th>\n",
       "      <th>SaleType_New</th>\n",
       "      <th>SaleType_Oth</th>\n",
       "      <th>SaleType_WD</th>\n",
       "      <th>SaleCondition_Abnorml</th>\n",
       "      <th>SaleCondition_AdjLand</th>\n",
       "      <th>SaleCondition_Alloca</th>\n",
       "      <th>SaleCondition_Family</th>\n",
       "      <th>SaleCondition_Normal</th>\n",
       "      <th>SaleCondition_Partial</th>\n",
       "    </tr>\n",
       "    <tr>\n",
       "      <th>Id</th>\n",
       "      <th></th>\n",
       "      <th></th>\n",
       "      <th></th>\n",
       "      <th></th>\n",
       "      <th></th>\n",
       "      <th></th>\n",
       "      <th></th>\n",
       "      <th></th>\n",
       "      <th></th>\n",
       "      <th></th>\n",
       "      <th></th>\n",
       "      <th></th>\n",
       "      <th></th>\n",
       "      <th></th>\n",
       "      <th></th>\n",
       "      <th></th>\n",
       "      <th></th>\n",
       "      <th></th>\n",
       "      <th></th>\n",
       "      <th></th>\n",
       "      <th></th>\n",
       "    </tr>\n",
       "  </thead>\n",
       "  <tbody>\n",
       "    <tr>\n",
       "      <th>619</th>\n",
       "      <td>20</td>\n",
       "      <td>90.0</td>\n",
       "      <td>11694</td>\n",
       "      <td>9</td>\n",
       "      <td>5</td>\n",
       "      <td>2007</td>\n",
       "      <td>2007</td>\n",
       "      <td>452.0</td>\n",
       "      <td>48</td>\n",
       "      <td>0</td>\n",
       "      <td>...</td>\n",
       "      <td>0</td>\n",
       "      <td>1</td>\n",
       "      <td>0</td>\n",
       "      <td>0</td>\n",
       "      <td>0</td>\n",
       "      <td>0</td>\n",
       "      <td>0</td>\n",
       "      <td>0</td>\n",
       "      <td>0</td>\n",
       "      <td>1</td>\n",
       "    </tr>\n",
       "    <tr>\n",
       "      <th>871</th>\n",
       "      <td>20</td>\n",
       "      <td>60.0</td>\n",
       "      <td>6600</td>\n",
       "      <td>5</td>\n",
       "      <td>5</td>\n",
       "      <td>1962</td>\n",
       "      <td>1962</td>\n",
       "      <td>0.0</td>\n",
       "      <td>0</td>\n",
       "      <td>0</td>\n",
       "      <td>...</td>\n",
       "      <td>0</td>\n",
       "      <td>0</td>\n",
       "      <td>0</td>\n",
       "      <td>1</td>\n",
       "      <td>0</td>\n",
       "      <td>0</td>\n",
       "      <td>0</td>\n",
       "      <td>0</td>\n",
       "      <td>1</td>\n",
       "      <td>0</td>\n",
       "    </tr>\n",
       "    <tr>\n",
       "      <th>93</th>\n",
       "      <td>30</td>\n",
       "      <td>80.0</td>\n",
       "      <td>13360</td>\n",
       "      <td>5</td>\n",
       "      <td>7</td>\n",
       "      <td>1921</td>\n",
       "      <td>2006</td>\n",
       "      <td>0.0</td>\n",
       "      <td>713</td>\n",
       "      <td>0</td>\n",
       "      <td>...</td>\n",
       "      <td>0</td>\n",
       "      <td>0</td>\n",
       "      <td>0</td>\n",
       "      <td>1</td>\n",
       "      <td>0</td>\n",
       "      <td>0</td>\n",
       "      <td>0</td>\n",
       "      <td>0</td>\n",
       "      <td>1</td>\n",
       "      <td>0</td>\n",
       "    </tr>\n",
       "    <tr>\n",
       "      <th>818</th>\n",
       "      <td>20</td>\n",
       "      <td>NaN</td>\n",
       "      <td>13265</td>\n",
       "      <td>8</td>\n",
       "      <td>5</td>\n",
       "      <td>2002</td>\n",
       "      <td>2002</td>\n",
       "      <td>148.0</td>\n",
       "      <td>1218</td>\n",
       "      <td>0</td>\n",
       "      <td>...</td>\n",
       "      <td>0</td>\n",
       "      <td>0</td>\n",
       "      <td>0</td>\n",
       "      <td>1</td>\n",
       "      <td>0</td>\n",
       "      <td>0</td>\n",
       "      <td>0</td>\n",
       "      <td>0</td>\n",
       "      <td>1</td>\n",
       "      <td>0</td>\n",
       "    </tr>\n",
       "    <tr>\n",
       "      <th>303</th>\n",
       "      <td>20</td>\n",
       "      <td>118.0</td>\n",
       "      <td>13704</td>\n",
       "      <td>7</td>\n",
       "      <td>5</td>\n",
       "      <td>2001</td>\n",
       "      <td>2002</td>\n",
       "      <td>150.0</td>\n",
       "      <td>0</td>\n",
       "      <td>0</td>\n",
       "      <td>...</td>\n",
       "      <td>0</td>\n",
       "      <td>0</td>\n",
       "      <td>0</td>\n",
       "      <td>1</td>\n",
       "      <td>0</td>\n",
       "      <td>0</td>\n",
       "      <td>0</td>\n",
       "      <td>0</td>\n",
       "      <td>1</td>\n",
       "      <td>0</td>\n",
       "    </tr>\n",
       "  </tbody>\n",
       "</table>\n",
       "<p>5 rows × 227 columns</p>\n",
       "</div>"
      ],
      "text/plain": [
       "     MSSubClass  LotFrontage  LotArea  OverallQual  OverallCond  YearBuilt  \\\n",
       "Id                                                                           \n",
       "619          20         90.0    11694            9            5       2007   \n",
       "871          20         60.0     6600            5            5       1962   \n",
       "93           30         80.0    13360            5            7       1921   \n",
       "818          20          NaN    13265            8            5       2002   \n",
       "303          20        118.0    13704            7            5       2001   \n",
       "\n",
       "     YearRemodAdd  MasVnrArea  BsmtFinSF1  BsmtFinSF2  ...  SaleType_ConLw  \\\n",
       "Id                                                     ...                   \n",
       "619          2007       452.0          48           0  ...               0   \n",
       "871          1962         0.0           0           0  ...               0   \n",
       "93           2006         0.0         713           0  ...               0   \n",
       "818          2002       148.0        1218           0  ...               0   \n",
       "303          2002       150.0           0           0  ...               0   \n",
       "\n",
       "     SaleType_New  SaleType_Oth  SaleType_WD  SaleCondition_Abnorml  \\\n",
       "Id                                                                    \n",
       "619             1             0            0                      0   \n",
       "871             0             0            1                      0   \n",
       "93              0             0            1                      0   \n",
       "818             0             0            1                      0   \n",
       "303             0             0            1                      0   \n",
       "\n",
       "     SaleCondition_AdjLand  SaleCondition_Alloca  SaleCondition_Family  \\\n",
       "Id                                                                       \n",
       "619                      0                     0                     0   \n",
       "871                      0                     0                     0   \n",
       "93                       0                     0                     0   \n",
       "818                      0                     0                     0   \n",
       "303                      0                     0                     0   \n",
       "\n",
       "     SaleCondition_Normal  SaleCondition_Partial  \n",
       "Id                                                \n",
       "619                     0                      1  \n",
       "871                     1                      0  \n",
       "93                      1                      0  \n",
       "818                     1                      0  \n",
       "303                     1                      0  \n",
       "\n",
       "[5 rows x 227 columns]"
      ]
     },
     "execution_count": 10,
     "metadata": {},
     "output_type": "execute_result"
    }
   ],
   "source": [
    "X_train.head()"
   ]
  },
  {
   "cell_type": "markdown",
   "id": "f5b082b4",
   "metadata": {
    "papermill": {
     "duration": 0.019234,
     "end_time": "2021-10-27T23:41:00.959010",
     "exception": false,
     "start_time": "2021-10-27T23:41:00.939776",
     "status": "completed"
    },
    "tags": []
   },
   "source": [
    "Impute value in order to get ourselves rid of missing values. We will use the mean of the values we do have in place of the ones we don’t.  "
   ]
  },
  {
   "cell_type": "code",
   "execution_count": 11,
   "id": "cd84703b",
   "metadata": {
    "execution": {
     "iopub.execute_input": "2021-10-27T23:41:01.003111Z",
     "iopub.status.busy": "2021-10-27T23:41:01.002479Z",
     "iopub.status.idle": "2021-10-27T23:41:01.177512Z",
     "shell.execute_reply": "2021-10-27T23:41:01.178007Z",
     "shell.execute_reply.started": "2021-10-27T23:39:36.405600Z"
    },
    "papermill": {
     "duration": 0.199544,
     "end_time": "2021-10-27T23:41:01.178207",
     "exception": false,
     "start_time": "2021-10-27T23:41:00.978663",
     "status": "completed"
    },
    "tags": []
   },
   "outputs": [],
   "source": [
    "from sklearn.impute import SimpleImputer\n",
    "imputer = SimpleImputer(missing_values=np.nan, strategy='mean')\n",
    "imputed_X_train = imputer.fit_transform(X_train)\n",
    "imputed_X_valid = imputer.transform(X_valid)\n",
    "imputed_X_test = imputer.transform(X_test)"
   ]
  },
  {
   "cell_type": "code",
   "execution_count": 12,
   "id": "5a568474",
   "metadata": {
    "execution": {
     "iopub.execute_input": "2021-10-27T23:41:01.224083Z",
     "iopub.status.busy": "2021-10-27T23:41:01.223426Z",
     "iopub.status.idle": "2021-10-27T23:41:01.238878Z",
     "shell.execute_reply": "2021-10-27T23:41:01.238302Z",
     "shell.execute_reply.started": "2021-10-27T23:39:36.439027Z"
    },
    "papermill": {
     "duration": 0.040627,
     "end_time": "2021-10-27T23:41:01.239027",
     "exception": false,
     "start_time": "2021-10-27T23:41:01.198400",
     "status": "completed"
    },
    "tags": []
   },
   "outputs": [],
   "source": [
    "from sklearn.preprocessing import StandardScaler\n",
    "sc = StandardScaler()\n",
    "imputed_X_train = sc.fit_transform(imputed_X_train)\n",
    "imputed_X_valid = sc.transform(imputed_X_valid)\n",
    "imputed_X_test = sc.transform(imputed_X_test)"
   ]
  },
  {
   "cell_type": "markdown",
   "id": "03f49305",
   "metadata": {
    "papermill": {
     "duration": 0.019324,
     "end_time": "2021-10-27T23:41:01.278495",
     "exception": false,
     "start_time": "2021-10-27T23:41:01.259171",
     "status": "completed"
    },
    "tags": []
   },
   "source": [
    "Now we tune the models. We tried LightGBM but XGB works better. It took a lot of iterating to get here."
   ]
  },
  {
   "cell_type": "code",
   "execution_count": 13,
   "id": "6eb28b19",
   "metadata": {
    "execution": {
     "iopub.execute_input": "2021-10-27T23:41:01.327544Z",
     "iopub.status.busy": "2021-10-27T23:41:01.326844Z",
     "iopub.status.idle": "2021-10-27T23:41:07.224525Z",
     "shell.execute_reply": "2021-10-27T23:41:07.225330Z",
     "shell.execute_reply.started": "2021-10-27T23:39:36.455020Z"
    },
    "papermill": {
     "duration": 5.927514,
     "end_time": "2021-10-27T23:41:07.225615",
     "exception": false,
     "start_time": "2021-10-27T23:41:01.298101",
     "status": "completed"
    },
    "tags": []
   },
   "outputs": [
    {
     "name": "stderr",
     "output_type": "stream",
     "text": [
      "\n",
      "User settings:\n",
      "\n",
      "   KMP_AFFINITY=granularity=fine,verbose,compact,1,0\n",
      "   KMP_BLOCKTIME=0\n",
      "   KMP_DUPLICATE_LIB_OK=True\n",
      "   KMP_INIT_AT_FORK=FALSE\n",
      "   KMP_SETTINGS=1\n",
      "   KMP_WARNINGS=0\n",
      "\n",
      "Effective settings:\n",
      "\n",
      "   KMP_ABORT_DELAY=0\n",
      "   KMP_ADAPTIVE_LOCK_PROPS='1,1024'\n",
      "   KMP_ALIGN_ALLOC=64\n",
      "   KMP_ALL_THREADPRIVATE=128\n",
      "   KMP_ATOMIC_MODE=2\n",
      "   KMP_BLOCKTIME=0\n",
      "   KMP_CPUINFO_FILE: value is not defined\n",
      "   KMP_DETERMINISTIC_REDUCTION=false\n",
      "   KMP_DEVICE_THREAD_LIMIT=2147483647\n",
      "   KMP_DISP_NUM_BUFFERS=7\n",
      "   KMP_DUPLICATE_LIB_OK=true\n",
      "   KMP_ENABLE_TASK_THROTTLING=true\n",
      "   KMP_FORCE_REDUCTION: value is not defined\n",
      "   KMP_FOREIGN_THREADS_THREADPRIVATE=true\n",
      "   KMP_FORKJOIN_BARRIER='2,2'\n",
      "   KMP_FORKJOIN_BARRIER_PATTERN='hyper,hyper'\n",
      "   KMP_GTID_MODE=3\n",
      "   KMP_HANDLE_SIGNALS=false\n",
      "   KMP_HOT_TEAMS_MAX_LEVEL=1\n",
      "   KMP_HOT_TEAMS_MODE=0\n",
      "   KMP_INIT_AT_FORK=true\n",
      "   KMP_LIBRARY=throughput\n",
      "   KMP_LOCK_KIND=queuing\n",
      "   KMP_MALLOC_POOL_INCR=1M\n",
      "   KMP_NUM_LOCKS_IN_BLOCK=1\n",
      "   KMP_PLAIN_BARRIER='2,2'\n",
      "   KMP_PLAIN_BARRIER_PATTERN='hyper,hyper'\n",
      "   KMP_REDUCTION_BARRIER='1,1'\n",
      "   KMP_REDUCTION_BARRIER_PATTERN='hyper,hyper'\n",
      "   KMP_SCHEDULE='static,balanced;guided,iterative'\n",
      "   KMP_SETTINGS=true\n",
      "   KMP_SPIN_BACKOFF_PARAMS='4096,100'\n",
      "   KMP_STACKOFFSET=64\n",
      "   KMP_STACKPAD=0\n",
      "   KMP_STACKSIZE=8M\n",
      "   KMP_STORAGE_MAP=false\n",
      "   KMP_TASKING=2\n",
      "   KMP_TASKLOOP_MIN_TASKS=0\n",
      "   KMP_TASK_STEALING_CONSTRAINT=1\n",
      "   KMP_TEAMS_THREAD_LIMIT=4\n",
      "   KMP_TOPOLOGY_METHOD=all\n",
      "   KMP_USE_YIELD=1\n",
      "   KMP_VERSION=false\n",
      "   KMP_WARNINGS=false\n",
      "   OMP_AFFINITY_FORMAT='OMP: pid %P tid %i thread %n bound to OS proc set {%A}'\n",
      "   OMP_ALLOCATOR=omp_default_mem_alloc\n",
      "   OMP_CANCELLATION=false\n",
      "   OMP_DEFAULT_DEVICE=0\n",
      "   OMP_DISPLAY_AFFINITY=false\n",
      "   OMP_DISPLAY_ENV=false\n",
      "   OMP_DYNAMIC=false\n",
      "   OMP_MAX_ACTIVE_LEVELS=1\n",
      "   OMP_MAX_TASK_PRIORITY=0\n",
      "   OMP_NESTED: deprecated; max-active-levels-var=1\n",
      "   OMP_NUM_THREADS: value is not defined\n",
      "   OMP_PLACES: value is not defined\n",
      "   OMP_PROC_BIND='intel'\n",
      "   OMP_SCHEDULE='static'\n",
      "   OMP_STACKSIZE=8M\n",
      "   OMP_TARGET_OFFLOAD=DEFAULT\n",
      "   OMP_THREAD_LIMIT=2147483647\n",
      "   OMP_WAIT_POLICY=PASSIVE\n",
      "   KMP_AFFINITY='verbose,warnings,respect,granularity=fine,compact,1,0'\n",
      "\n",
      "2021-10-27 23:41:07.112129: I tensorflow/core/common_runtime/process_util.cc:146] Creating new thread pool with default inter op setting: 2. Tune using inter_op_parallelism_threads for best performance.\n"
     ]
    }
   ],
   "source": [
    "from tensorflow import keras \n",
    "from tensorflow.keras import layers\n",
    "from tensorflow.keras.callbacks import EarlyStopping\n",
    "\n",
    "model = keras.Sequential([ \n",
    "layers.Dense(1024, activation='relu', input_shape=[227]), \n",
    "layers.Dropout(rate = 0.4),\n",
    "layers.Dense(1024, activation='relu'),\n",
    "layers.Dropout(rate = 0.4),\n",
    "layers.Dense(1024, activation='relu'), \n",
    "layers.Dropout(rate = 0.4),\n",
    "layers.Dense(1), \n",
    "])\n",
    "\n",
    "early_stopping = EarlyStopping(min_delta = 0.001,\n",
    "                               patience = 30,\n",
    "                               restore_best_weights = True)"
   ]
  },
  {
   "cell_type": "code",
   "execution_count": 14,
   "id": "f4759169",
   "metadata": {
    "execution": {
     "iopub.execute_input": "2021-10-27T23:41:07.275790Z",
     "iopub.status.busy": "2021-10-27T23:41:07.275029Z",
     "iopub.status.idle": "2021-10-27T23:41:07.284920Z",
     "shell.execute_reply": "2021-10-27T23:41:07.284382Z",
     "shell.execute_reply.started": "2021-10-27T23:39:36.522672Z"
    },
    "papermill": {
     "duration": 0.036699,
     "end_time": "2021-10-27T23:41:07.285078",
     "exception": false,
     "start_time": "2021-10-27T23:41:07.248379",
     "status": "completed"
    },
    "tags": []
   },
   "outputs": [],
   "source": [
    "model.compile( \n",
    "    optimizer='adam', \n",
    "    loss='mae', )"
   ]
  },
  {
   "cell_type": "code",
   "execution_count": 15,
   "id": "71b777ab",
   "metadata": {
    "execution": {
     "iopub.execute_input": "2021-10-27T23:41:07.331847Z",
     "iopub.status.busy": "2021-10-27T23:41:07.331190Z",
     "iopub.status.idle": "2021-10-27T23:41:55.526996Z",
     "shell.execute_reply": "2021-10-27T23:41:55.527516Z",
     "shell.execute_reply.started": "2021-10-27T23:39:36.533767Z"
    },
    "papermill": {
     "duration": 48.222051,
     "end_time": "2021-10-27T23:41:55.527726",
     "exception": false,
     "start_time": "2021-10-27T23:41:07.305675",
     "status": "completed"
    },
    "tags": []
   },
   "outputs": [
    {
     "name": "stderr",
     "output_type": "stream",
     "text": [
      "2021-10-27 23:41:07.415039: I tensorflow/compiler/mlir/mlir_graph_optimization_pass.cc:185] None of the MLIR Optimization Passes are enabled (registered 2)\n"
     ]
    },
    {
     "name": "stdout",
     "output_type": "stream",
     "text": [
      "Epoch 1/1000\n",
      "5/5 - 1s - loss: 180790.0781 - val_loss: 181282.0469\n",
      "Epoch 2/1000\n",
      "5/5 - 0s - loss: 180624.0781 - val_loss: 180901.7812\n",
      "Epoch 3/1000\n",
      "5/5 - 0s - loss: 180057.3750 - val_loss: 179888.4844\n",
      "Epoch 4/1000\n",
      "5/5 - 0s - loss: 178657.7812 - val_loss: 177653.4531\n",
      "Epoch 5/1000\n",
      "5/5 - 0s - loss: 175642.5625 - val_loss: 173183.4531\n",
      "Epoch 6/1000\n",
      "5/5 - 0s - loss: 169764.8750 - val_loss: 164852.5000\n",
      "Epoch 7/1000\n",
      "5/5 - 0s - loss: 158986.3594 - val_loss: 150163.5469\n",
      "Epoch 8/1000\n",
      "5/5 - 0s - loss: 140735.6094 - val_loss: 126070.6719\n",
      "Epoch 9/1000\n",
      "5/5 - 0s - loss: 113221.4375 - val_loss: 93944.0859\n",
      "Epoch 10/1000\n",
      "5/5 - 0s - loss: 78781.5156 - val_loss: 61580.3164\n",
      "Epoch 11/1000\n",
      "5/5 - 0s - loss: 50663.5742 - val_loss: 55046.4258\n",
      "Epoch 12/1000\n",
      "5/5 - 0s - loss: 49924.6172 - val_loss: 46786.4258\n",
      "Epoch 13/1000\n",
      "5/5 - 0s - loss: 37340.0547 - val_loss: 39629.6953\n",
      "Epoch 14/1000\n",
      "5/5 - 0s - loss: 32902.6562 - val_loss: 40960.8281\n",
      "Epoch 15/1000\n",
      "5/5 - 0s - loss: 30225.4727 - val_loss: 34502.5625\n",
      "Epoch 16/1000\n",
      "5/5 - 0s - loss: 27268.0684 - val_loss: 32438.9277\n",
      "Epoch 17/1000\n",
      "5/5 - 0s - loss: 25987.9785 - val_loss: 32053.4102\n",
      "Epoch 18/1000\n",
      "5/5 - 0s - loss: 23924.1934 - val_loss: 32681.5859\n",
      "Epoch 19/1000\n",
      "5/5 - 0s - loss: 22578.4219 - val_loss: 30500.7129\n",
      "Epoch 20/1000\n",
      "5/5 - 0s - loss: 21320.0938 - val_loss: 29414.2988\n",
      "Epoch 21/1000\n",
      "5/5 - 0s - loss: 20541.0801 - val_loss: 29251.5586\n",
      "Epoch 22/1000\n",
      "5/5 - 0s - loss: 19555.9395 - val_loss: 29089.7402\n",
      "Epoch 23/1000\n",
      "5/5 - 0s - loss: 18862.0742 - val_loss: 27602.0508\n",
      "Epoch 24/1000\n",
      "5/5 - 0s - loss: 18340.0000 - val_loss: 27453.0957\n",
      "Epoch 25/1000\n",
      "5/5 - 0s - loss: 17958.6660 - val_loss: 28045.2891\n",
      "Epoch 26/1000\n",
      "5/5 - 0s - loss: 17696.5137 - val_loss: 26949.6602\n",
      "Epoch 27/1000\n",
      "5/5 - 0s - loss: 16880.8281 - val_loss: 26765.5098\n",
      "Epoch 28/1000\n",
      "5/5 - 0s - loss: 16935.7559 - val_loss: 27320.9238\n",
      "Epoch 29/1000\n",
      "5/5 - 0s - loss: 16385.1934 - val_loss: 26506.3086\n",
      "Epoch 30/1000\n",
      "5/5 - 0s - loss: 16154.3789 - val_loss: 26418.0977\n",
      "Epoch 31/1000\n",
      "5/5 - 0s - loss: 15676.3301 - val_loss: 26353.2246\n",
      "Epoch 32/1000\n",
      "5/5 - 0s - loss: 15570.0771 - val_loss: 26334.4629\n",
      "Epoch 33/1000\n",
      "5/5 - 0s - loss: 15305.2393 - val_loss: 25965.6641\n",
      "Epoch 34/1000\n",
      "5/5 - 0s - loss: 15082.9893 - val_loss: 25987.5156\n",
      "Epoch 35/1000\n",
      "5/5 - 0s - loss: 14883.1006 - val_loss: 26568.1504\n",
      "Epoch 36/1000\n",
      "5/5 - 0s - loss: 15146.1797 - val_loss: 25805.7188\n",
      "Epoch 37/1000\n",
      "5/5 - 0s - loss: 14454.2959 - val_loss: 25844.3047\n",
      "Epoch 38/1000\n",
      "5/5 - 0s - loss: 15093.6201 - val_loss: 25548.0234\n",
      "Epoch 39/1000\n",
      "5/5 - 0s - loss: 14630.2588 - val_loss: 25555.2285\n",
      "Epoch 40/1000\n",
      "5/5 - 0s - loss: 14077.3633 - val_loss: 25630.4395\n",
      "Epoch 41/1000\n",
      "5/5 - 0s - loss: 14083.4600 - val_loss: 26208.8770\n",
      "Epoch 42/1000\n",
      "5/5 - 1s - loss: 13360.9512 - val_loss: 25155.6328\n",
      "Epoch 43/1000\n",
      "5/5 - 0s - loss: 13720.7363 - val_loss: 25946.9062\n",
      "Epoch 44/1000\n",
      "5/5 - 0s - loss: 13618.2373 - val_loss: 25205.9688\n",
      "Epoch 45/1000\n",
      "5/5 - 0s - loss: 13627.3232 - val_loss: 25218.3691\n",
      "Epoch 46/1000\n",
      "5/5 - 0s - loss: 13746.3037 - val_loss: 26071.2012\n",
      "Epoch 47/1000\n",
      "5/5 - 0s - loss: 12989.7998 - val_loss: 24582.0508\n",
      "Epoch 48/1000\n",
      "5/5 - 0s - loss: 13676.4951 - val_loss: 25859.7676\n",
      "Epoch 49/1000\n",
      "5/5 - 0s - loss: 12854.6709 - val_loss: 25240.6348\n",
      "Epoch 50/1000\n",
      "5/5 - 0s - loss: 13330.6475 - val_loss: 24899.6914\n",
      "Epoch 51/1000\n",
      "5/5 - 0s - loss: 12879.4678 - val_loss: 26145.5645\n",
      "Epoch 52/1000\n",
      "5/5 - 0s - loss: 13101.0615 - val_loss: 24783.4629\n",
      "Epoch 53/1000\n",
      "5/5 - 0s - loss: 12972.7314 - val_loss: 24920.8945\n",
      "Epoch 54/1000\n",
      "5/5 - 0s - loss: 12887.9756 - val_loss: 25163.1953\n",
      "Epoch 55/1000\n",
      "5/5 - 0s - loss: 13215.0586 - val_loss: 24646.5352\n",
      "Epoch 56/1000\n",
      "5/5 - 0s - loss: 12978.5762 - val_loss: 25900.7461\n",
      "Epoch 57/1000\n",
      "5/5 - 0s - loss: 12659.9805 - val_loss: 24565.1621\n",
      "Epoch 58/1000\n",
      "5/5 - 0s - loss: 12843.0518 - val_loss: 24550.2695\n",
      "Epoch 59/1000\n",
      "5/5 - 0s - loss: 12699.9023 - val_loss: 25364.5547\n",
      "Epoch 60/1000\n",
      "5/5 - 0s - loss: 12524.0479 - val_loss: 24631.9512\n",
      "Epoch 61/1000\n",
      "5/5 - 0s - loss: 12988.7998 - val_loss: 25442.0547\n",
      "Epoch 62/1000\n",
      "5/5 - 0s - loss: 12920.9893 - val_loss: 25225.2031\n",
      "Epoch 63/1000\n",
      "5/5 - 0s - loss: 11782.2930 - val_loss: 24848.0430\n",
      "Epoch 64/1000\n",
      "5/5 - 0s - loss: 12262.9971 - val_loss: 25085.9043\n",
      "Epoch 65/1000\n",
      "5/5 - 0s - loss: 12194.7793 - val_loss: 25579.4375\n",
      "Epoch 66/1000\n",
      "5/5 - 0s - loss: 12429.2275 - val_loss: 24622.3691\n",
      "Epoch 67/1000\n",
      "5/5 - 0s - loss: 12124.0469 - val_loss: 24657.8945\n",
      "Epoch 68/1000\n",
      "5/5 - 0s - loss: 12163.1533 - val_loss: 24449.5859\n",
      "Epoch 69/1000\n",
      "5/5 - 0s - loss: 11732.4492 - val_loss: 24395.3359\n",
      "Epoch 70/1000\n",
      "5/5 - 0s - loss: 11711.7539 - val_loss: 24817.7188\n",
      "Epoch 71/1000\n",
      "5/5 - 0s - loss: 12220.8809 - val_loss: 24565.5879\n",
      "Epoch 72/1000\n",
      "5/5 - 0s - loss: 12181.4629 - val_loss: 24894.5996\n",
      "Epoch 73/1000\n",
      "5/5 - 0s - loss: 11795.2227 - val_loss: 24493.4180\n",
      "Epoch 74/1000\n",
      "5/5 - 0s - loss: 11997.0674 - val_loss: 24838.0195\n",
      "Epoch 75/1000\n",
      "5/5 - 0s - loss: 11723.8320 - val_loss: 25056.2148\n",
      "Epoch 76/1000\n",
      "5/5 - 0s - loss: 12214.1367 - val_loss: 24284.2227\n",
      "Epoch 77/1000\n",
      "5/5 - 0s - loss: 11632.0928 - val_loss: 24881.7949\n",
      "Epoch 78/1000\n",
      "5/5 - 0s - loss: 12152.0508 - val_loss: 25135.1270\n",
      "Epoch 79/1000\n",
      "5/5 - 0s - loss: 11735.7842 - val_loss: 24794.7852\n",
      "Epoch 80/1000\n",
      "5/5 - 0s - loss: 11787.2158 - val_loss: 25711.1250\n",
      "Epoch 81/1000\n",
      "5/5 - 0s - loss: 11782.7910 - val_loss: 24484.7734\n",
      "Epoch 82/1000\n",
      "5/5 - 0s - loss: 12017.6289 - val_loss: 25392.0684\n",
      "Epoch 83/1000\n",
      "5/5 - 0s - loss: 11940.6309 - val_loss: 23921.7422\n",
      "Epoch 84/1000\n",
      "5/5 - 0s - loss: 11543.8018 - val_loss: 25838.6953\n",
      "Epoch 85/1000\n",
      "5/5 - 0s - loss: 11671.2871 - val_loss: 24531.4219\n",
      "Epoch 86/1000\n",
      "5/5 - 0s - loss: 11601.8369 - val_loss: 24839.7578\n",
      "Epoch 87/1000\n",
      "5/5 - 0s - loss: 11354.0039 - val_loss: 25382.5508\n",
      "Epoch 88/1000\n",
      "5/5 - 0s - loss: 11807.8555 - val_loss: 24452.4590\n",
      "Epoch 89/1000\n",
      "5/5 - 0s - loss: 11242.9619 - val_loss: 25188.3398\n",
      "Epoch 90/1000\n",
      "5/5 - 0s - loss: 11147.0596 - val_loss: 23992.0000\n",
      "Epoch 91/1000\n",
      "5/5 - 0s - loss: 11131.4766 - val_loss: 25391.8965\n",
      "Epoch 92/1000\n",
      "5/5 - 0s - loss: 11714.3643 - val_loss: 24112.7090\n",
      "Epoch 93/1000\n",
      "5/5 - 0s - loss: 11444.6963 - val_loss: 24711.6270\n",
      "Epoch 94/1000\n",
      "5/5 - 0s - loss: 11302.5312 - val_loss: 24099.2012\n",
      "Epoch 95/1000\n",
      "5/5 - 0s - loss: 11532.2764 - val_loss: 25122.3047\n",
      "Epoch 96/1000\n",
      "5/5 - 0s - loss: 11240.5254 - val_loss: 23853.0625\n",
      "Epoch 97/1000\n",
      "5/5 - 0s - loss: 11232.2666 - val_loss: 25005.0312\n",
      "Epoch 98/1000\n",
      "5/5 - 0s - loss: 11368.2324 - val_loss: 24160.6055\n",
      "Epoch 99/1000\n",
      "5/5 - 0s - loss: 11455.3174 - val_loss: 25188.2988\n",
      "Epoch 100/1000\n",
      "5/5 - 0s - loss: 11026.2559 - val_loss: 24298.6309\n",
      "Epoch 101/1000\n",
      "5/5 - 0s - loss: 10934.6562 - val_loss: 24455.9766\n",
      "Epoch 102/1000\n",
      "5/5 - 0s - loss: 11138.0635 - val_loss: 24603.9688\n",
      "Epoch 103/1000\n",
      "5/5 - 0s - loss: 11694.5225 - val_loss: 24385.1309\n",
      "Epoch 104/1000\n",
      "5/5 - 0s - loss: 11290.8740 - val_loss: 25189.2285\n",
      "Epoch 105/1000\n",
      "5/5 - 0s - loss: 10879.4111 - val_loss: 23842.0156\n",
      "Epoch 106/1000\n",
      "5/5 - 0s - loss: 11627.8496 - val_loss: 25111.1621\n",
      "Epoch 107/1000\n",
      "5/5 - 0s - loss: 11048.2119 - val_loss: 23918.5547\n",
      "Epoch 108/1000\n",
      "5/5 - 0s - loss: 10953.2607 - val_loss: 24377.5273\n",
      "Epoch 109/1000\n",
      "5/5 - 0s - loss: 11495.9014 - val_loss: 23960.6172\n",
      "Epoch 110/1000\n",
      "5/5 - 0s - loss: 11233.1680 - val_loss: 24231.0312\n",
      "Epoch 111/1000\n",
      "5/5 - 0s - loss: 10926.1074 - val_loss: 24136.7480\n",
      "Epoch 112/1000\n",
      "5/5 - 0s - loss: 11080.6611 - val_loss: 23873.0879\n",
      "Epoch 113/1000\n",
      "5/5 - 0s - loss: 10994.1768 - val_loss: 24434.9180\n",
      "Epoch 114/1000\n",
      "5/5 - 0s - loss: 11137.5947 - val_loss: 24656.1992\n",
      "Epoch 115/1000\n",
      "5/5 - 0s - loss: 10970.0752 - val_loss: 23805.0488\n",
      "Epoch 116/1000\n",
      "5/5 - 0s - loss: 10737.7432 - val_loss: 24862.0508\n",
      "Epoch 117/1000\n",
      "5/5 - 0s - loss: 11273.8398 - val_loss: 24081.3281\n",
      "Epoch 118/1000\n",
      "5/5 - 0s - loss: 11084.8721 - val_loss: 23956.2559\n",
      "Epoch 119/1000\n",
      "5/5 - 0s - loss: 10870.7441 - val_loss: 24353.1367\n",
      "Epoch 120/1000\n",
      "5/5 - 0s - loss: 10827.1621 - val_loss: 23961.3418\n",
      "Epoch 121/1000\n",
      "5/5 - 0s - loss: 10797.2744 - val_loss: 24491.9238\n",
      "Epoch 122/1000\n",
      "5/5 - 0s - loss: 11023.3574 - val_loss: 23820.4395\n",
      "Epoch 123/1000\n",
      "5/5 - 0s - loss: 10978.6416 - val_loss: 24558.5918\n",
      "Epoch 124/1000\n",
      "5/5 - 0s - loss: 11070.9551 - val_loss: 24830.6797\n",
      "Epoch 125/1000\n",
      "5/5 - 0s - loss: 10969.4795 - val_loss: 23703.6602\n",
      "Epoch 126/1000\n",
      "5/5 - 0s - loss: 10776.8291 - val_loss: 25853.7637\n",
      "Epoch 127/1000\n",
      "5/5 - 0s - loss: 11109.8213 - val_loss: 24044.2109\n",
      "Epoch 128/1000\n",
      "5/5 - 0s - loss: 10740.7803 - val_loss: 24456.2832\n",
      "Epoch 129/1000\n",
      "5/5 - 0s - loss: 11239.3916 - val_loss: 24791.8145\n",
      "Epoch 130/1000\n",
      "5/5 - 0s - loss: 10781.0869 - val_loss: 23806.0898\n",
      "Epoch 131/1000\n",
      "5/5 - 0s - loss: 11237.1074 - val_loss: 25002.5469\n",
      "Epoch 132/1000\n",
      "5/5 - 0s - loss: 10869.8760 - val_loss: 24160.4102\n",
      "Epoch 133/1000\n",
      "5/5 - 0s - loss: 10677.3350 - val_loss: 24757.2402\n",
      "Epoch 134/1000\n",
      "5/5 - 0s - loss: 10950.2910 - val_loss: 24420.0176\n",
      "Epoch 135/1000\n",
      "5/5 - 0s - loss: 11343.9521 - val_loss: 24422.5977\n",
      "Epoch 136/1000\n",
      "5/5 - 0s - loss: 11225.8330 - val_loss: 24438.7676\n",
      "Epoch 137/1000\n",
      "5/5 - 0s - loss: 11002.5811 - val_loss: 24292.7344\n",
      "Epoch 138/1000\n",
      "5/5 - 0s - loss: 11083.2705 - val_loss: 24800.7129\n",
      "Epoch 139/1000\n",
      "5/5 - 0s - loss: 10896.5107 - val_loss: 24495.7832\n",
      "Epoch 140/1000\n",
      "5/5 - 0s - loss: 10327.0781 - val_loss: 24816.7227\n",
      "Epoch 141/1000\n",
      "5/5 - 0s - loss: 10600.2461 - val_loss: 23757.9258\n",
      "Epoch 142/1000\n",
      "5/5 - 0s - loss: 10725.3926 - val_loss: 24633.6211\n",
      "Epoch 143/1000\n",
      "5/5 - 0s - loss: 11182.5273 - val_loss: 24493.3672\n",
      "Epoch 144/1000\n",
      "5/5 - 0s - loss: 10721.5713 - val_loss: 23868.6133\n",
      "Epoch 145/1000\n",
      "5/5 - 0s - loss: 11017.3018 - val_loss: 24221.3281\n",
      "Epoch 146/1000\n",
      "5/5 - 0s - loss: 11008.3281 - val_loss: 24302.8125\n",
      "Epoch 147/1000\n",
      "5/5 - 0s - loss: 10982.0732 - val_loss: 24222.1816\n",
      "Epoch 148/1000\n",
      "5/5 - 0s - loss: 10723.2070 - val_loss: 24527.1113\n",
      "Epoch 149/1000\n",
      "5/5 - 1s - loss: 10856.2793 - val_loss: 24032.4414\n",
      "Epoch 150/1000\n",
      "5/5 - 0s - loss: 10288.7920 - val_loss: 24597.3652\n",
      "Epoch 151/1000\n",
      "5/5 - 0s - loss: 10670.0625 - val_loss: 23906.8809\n",
      "Epoch 152/1000\n",
      "5/5 - 0s - loss: 10642.3945 - val_loss: 24410.3203\n",
      "Epoch 153/1000\n",
      "5/5 - 0s - loss: 10747.0947 - val_loss: 24434.8262\n",
      "Epoch 154/1000\n",
      "5/5 - 0s - loss: 10662.2480 - val_loss: 24587.9375\n",
      "Epoch 155/1000\n",
      "5/5 - 0s - loss: 11093.7744 - val_loss: 24132.6387\n"
     ]
    }
   ],
   "source": [
    "prediction = model.fit( \n",
    "    imputed_X_train, y_train, \n",
    "    validation_data=(imputed_X_valid, y_valid), \n",
    "    batch_size=256, \n",
    "    epochs=1000,\n",
    "    callbacks = [early_stopping],\n",
    "    verbose = 2,\n",
    ")"
   ]
  },
  {
   "cell_type": "code",
   "execution_count": 16,
   "id": "bc29a252",
   "metadata": {
    "execution": {
     "iopub.execute_input": "2021-10-27T23:41:55.762782Z",
     "iopub.status.busy": "2021-10-27T23:41:55.762064Z",
     "iopub.status.idle": "2021-10-27T23:41:55.774467Z",
     "shell.execute_reply": "2021-10-27T23:41:55.775002Z",
     "shell.execute_reply.started": "2021-10-27T23:40:18.494754Z"
    },
    "papermill": {
     "duration": 0.133449,
     "end_time": "2021-10-27T23:41:55.775195",
     "exception": false,
     "start_time": "2021-10-27T23:41:55.641746",
     "status": "completed"
    },
    "tags": []
   },
   "outputs": [],
   "source": [
    "output = pd.DataFrame({'Id': X_test.index,\n",
    "                       'SalePrice': prediction})\n",
    "output.to_csv('submission.csv', index=False)"
   ]
  },
  {
   "cell_type": "markdown",
   "id": "54009a0f",
   "metadata": {
    "papermill": {
     "duration": 0.176199,
     "end_time": "2021-10-27T23:41:56.064866",
     "exception": false,
     "start_time": "2021-10-27T23:41:55.888667",
     "status": "completed"
    },
    "tags": []
   },
   "source": [
    "It has been a huge learning lesson for me I have been several days at it. Hope you like it and get something out of it."
   ]
  }
 ],
 "metadata": {
  "kernelspec": {
   "display_name": "Python 3",
   "language": "python",
   "name": "python3"
  },
  "language_info": {
   "codemirror_mode": {
    "name": "ipython",
    "version": 3
   },
   "file_extension": ".py",
   "mimetype": "text/x-python",
   "name": "python",
   "nbconvert_exporter": "python",
   "pygments_lexer": "ipython3",
   "version": "3.7.10"
  },
  "papermill": {
   "default_parameters": {},
   "duration": 71.770325,
   "end_time": "2021-10-27T23:41:59.589039",
   "environment_variables": {},
   "exception": null,
   "input_path": "__notebook__.ipynb",
   "output_path": "__notebook__.ipynb",
   "parameters": {},
   "start_time": "2021-10-27T23:40:47.818714",
   "version": "2.3.3"
  }
 },
 "nbformat": 4,
 "nbformat_minor": 5
}
